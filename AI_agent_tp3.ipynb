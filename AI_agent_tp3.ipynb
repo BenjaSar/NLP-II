{
 "cells": [
  {
   "cell_type": "markdown",
   "id": "911b3b37-3b29-4833-94f2-bfe47af00c83",
   "metadata": {},
   "source": [
    "# COMPLEX TASK WITH DEEPSEEK REASONER"
   ]
  },
  {
   "cell_type": "code",
   "execution_count": 1,
   "id": "42b42dd9",
   "metadata": {},
   "outputs": [],
   "source": [
    "\n",
    "# Core\n",
    "import os\n",
    "from openai import OpenAI\n",
    "import re\n",
    "import io\n",
    "import logging\n",
    "import sqlite3\n",
    "from typing import TypedDict, List\n",
    "# I/O and environment\n",
    "from dotenv import load_dotenv, find_dotenv\n",
    "\n",
    "import requests"
   ]
  },
  {
   "cell_type": "code",
   "execution_count": 2,
   "id": "d0168aee-bce9-4d60-b827-f86a88187e31",
   "metadata": {
    "height": 149
   },
   "outputs": [],
   "source": [
    "from langgraph.graph import StateGraph, END\n",
    "import sqlite3\n",
    "from typing import TypedDict, List\n",
    "from langgraph.checkpoint.sqlite import SqliteSaver\n",
    "from langchain_core.messages import AnyMessage, SystemMessage, HumanMessage\n",
    "memory = SqliteSaver(sqlite3.connect(\":memory:\", check_same_thread=False))"
   ]
  },
  {
   "cell_type": "code",
   "execution_count": 3,
   "id": "94577461",
   "metadata": {},
   "outputs": [
    {
     "data": {
      "text/plain": [
       "True"
      ]
     },
     "execution_count": 3,
     "metadata": {},
     "output_type": "execute_result"
    }
   ],
   "source": [
    "load_dotenv(find_dotenv())"
   ]
  },
  {
   "cell_type": "code",
   "execution_count": 4,
   "id": "2589c5b6-6cc2-4594-9a17-dccdcf676054",
   "metadata": {
    "height": 149
   },
   "outputs": [],
   "source": [
    "# The TypeDict is imported from the typing module to define a type from dictionary with specific keys and values typed.\n",
    "\n",
    "class AgentState(TypedDict):\n",
    "    task: str\n",
    "    plan: str\n",
    "    calculator: str\n",
    "    reviewer: str\n",
    "    content: List[str]"
   ]
  },
  {
   "cell_type": "code",
   "execution_count": 5,
   "id": "425895d6",
   "metadata": {},
   "outputs": [],
   "source": [
    "# API configuration\n",
    "API_URL = \"https://api.deepseek.com/v1/chat/completions\"\n",
    "\n",
    "# get env DEEPSEEK_API_KEY\n",
    "DEEPSEEK_API_KEY = os.getenv(\"DEEPSEEK_API_KEY\")\n",
    "model = \"deepseek-reasoner\""
   ]
  },
  {
   "cell_type": "code",
   "execution_count": 6,
   "id": "a2ba84ec-c172-4de7-ac55-e3158a531b23",
   "metadata": {
    "height": 64
   },
   "outputs": [],
   "source": [
    "from openai import OpenAI\n",
    "\n",
    "client = OpenAI(\n",
    "    api_key = DEEPSEEK_API_KEY,\n",
    "    base_url=\"https://api.deepseek.com\"\n",
    ")\n",
    "\n",
    "\n",
    "# Headers configuration\n",
    "\"\"\"headers = {\n",
    "    \"Authorization\": f\"Bearer {DEEPSEEK_API_KEY}\",\n",
    "    \"Content-Type\": \"application/json\"\n",
    "}\"\"\"\n",
    "\n",
    "\n",
    "def generate_response(messages):\n",
    "    response = client.chat.completions.create(\n",
    "        model= model,\n",
    "        messages=messages,\n",
    "        stream=False)\n",
    "    \n",
    "    return response.choices[0].message.content"
   ]
  },
  {
   "cell_type": "code",
   "execution_count": 7,
   "id": "876d5092-b8ef-4e38-b4d7-0e80c609bf7a",
   "metadata": {
    "height": 81
   },
   "outputs": [],
   "source": [
    "PLAN_PROMPT = \"\"\"\n",
    "As an analyzer assistant, create a step-by-step plan to address complex user requests. Outline a clear, concise schema for task resolution. \\\n",
    "Prioritize logical flow, brevity, and actionable steps. \\\n",
    "Keep the response under 50 words\n",
    "Give an answer clear, readable for humans and plain text.\n",
    "\"\"\""
   ]
  },
  {
   "cell_type": "code",
   "execution_count": 8,
   "id": "10084a02-2928-4945-9f7c-ad3f5b33caf7",
   "metadata": {
    "height": 166
   },
   "outputs": [],
   "source": [
    "CALCULATOR_PROMPT = \"\"\"\n",
    "Your a helpful wise reasoning assistant. You are expert in thinking. As a precision calculator assistant, perform accurate calculations using optimal techniques. If the user provides feedback on your results, refine and improve your approach based on their input. Always reference and utilize the provided data:\n",
    "------\n",
    "{content}\n",
    "\n",
    "Key Requirements:\n",
    "    Deliver clear, step-by-step calculations.\n",
    "    Adapt and enhance responses based on user feedback.\n",
    "    Prioritize accuracy and methodological rigor\n",
    "    Give an answer clear, readable for humans and plain text.\n",
    "\"\"\""
   ]
  },
  {
   "cell_type": "code",
   "execution_count": 9,
   "id": "6cb3ef4c-58b3-401b-b104-0d51e553d982",
   "metadata": {
    "height": 98
   },
   "outputs": [],
   "source": [
    "REVIEWER_PROMPT = \"\"\"\n",
    "As a rigorous reviewer assistant, critically evaluate CALCULATOR_PROMPT's calculations. Provide concise yet detailed recommendations, highlighting errors, optimizations, and best-practice solutions. Prioritize accuracy and efficiency—deliver feedback in the fewest tokens possible without sacrificing clarity.\n",
    "Key Improvements:\n",
    "    Stronger Role Clarity – \"Rigorous reviewer assistant\" emphasizes precision.\n",
    "    Actionable Focus – Explicitly calls for errors, optimizations, and best practices.\n",
    "    Token Efficiency – Directly addresses brevity while maintaining detail.\n",
    "    Removed Redundancy – Streamlined phrasing (e.g., \"minimum tokens possible\" → \"fewest tokens possible\").\n",
    "    Give an answer clear, readable for humans and plain text.\n",
    "\"\"\""
   ]
  },
  {
   "cell_type": "code",
   "execution_count": 10,
   "id": "dc3293b7-a50c-43c8-a022-8975e1e444b8",
   "metadata": {
    "height": 98
   },
   "outputs": [],
   "source": [
    "from pydantic import BaseModel\n",
    "\n",
    "class Queries(BaseModel):\n",
    "    queries: List[str]"
   ]
  },
  {
   "cell_type": "code",
   "execution_count": 11,
   "id": "6b2f82fe-3ec4-4917-be51-9fb10d1317fa",
   "metadata": {
    "height": 132
   },
   "outputs": [],
   "source": [
    "def plan_node(state: AgentState):\n",
    "    messages = [\n",
    "        {\"role\": \"system\", \"content\": PLAN_PROMPT},  \n",
    "        {\"role\": \"user\", \"content\": state['task']} \n",
    "    ]\n",
    "    response = generate_response(messages)\n",
    "    plan = response.content if hasattr(response, 'content') else response\n",
    "    return {\"plan\": plan}"
   ]
  },
  {
   "cell_type": "code",
   "execution_count": 12,
   "id": "3218ae57",
   "metadata": {},
   "outputs": [],
   "source": [
    "def generation_node(state: AgentState):\n",
    "    messages = [\n",
    "        {\"role\": \"system\", \"content\": CALCULATOR_PROMPT},  \n",
    "        {\"role\": \"user\", \"content\": state['plan']} \n",
    "    ]\n",
    "    response = generate_response(messages)\n",
    "    calculator = response.content if hasattr(response, 'content') else response\n",
    "    return {\"calculator\": calculator}"
   ]
  },
  {
   "cell_type": "code",
   "execution_count": 13,
   "id": "bf4dcb93-6298-4cfd-b3ce-61dfac7fb35f",
   "metadata": {
    "height": 149
   },
   "outputs": [],
   "source": [
    "def reflection_node(state: AgentState):\n",
    "    messages = [\n",
    "        {\"role\": \"system\", \"content\": REVIEWER_PROMPT},  \n",
    "        {\"role\": \"user\", \"content\": state['calculator']} \n",
    "    ]\n",
    "    response = generate_response(messages)\n",
    "    reviewer = response.content if hasattr(response, 'content') else response\n",
    "    \n",
    "    return {\"reviewer\": reviewer}"
   ]
  },
  {
   "cell_type": "code",
   "execution_count": 14,
   "id": "ff362f49-dcf1-4ea1-a86c-e516e9ab897d",
   "metadata": {
    "height": 98
   },
   "outputs": [],
   "source": [
    "def should_continue(state):\n",
    "    if state[\"reflection\"]:\n",
    "        return END"
   ]
  },
  {
   "cell_type": "code",
   "execution_count": 15,
   "id": "a7e15a20-83d7-434c-8551-bce8dcc32be0",
   "metadata": {
    "height": 30
   },
   "outputs": [],
   "source": [
    "builder = StateGraph(AgentState)"
   ]
  },
  {
   "cell_type": "code",
   "execution_count": 16,
   "id": "54ab2c74-f32e-490c-a85d-932d11444210",
   "metadata": {
    "height": 115
   },
   "outputs": [
    {
     "data": {
      "text/plain": [
       "<langgraph.graph.state.StateGraph at 0x20bcbcbfcb0>"
      ]
     },
     "execution_count": 16,
     "metadata": {},
     "output_type": "execute_result"
    }
   ],
   "source": [
    "builder.add_node(\"planner\", plan_node)\n",
    "builder.add_node(\"generate\", generation_node)\n",
    "builder.add_node(\"reflection\", reflection_node)"
   ]
  },
  {
   "cell_type": "code",
   "execution_count": 17,
   "id": "a833d3ce-bd31-4319-811d-decff226b970",
   "metadata": {
    "height": 30
   },
   "outputs": [
    {
     "data": {
      "text/plain": [
       "<langgraph.graph.state.StateGraph at 0x20bcbcbfcb0>"
      ]
     },
     "execution_count": 17,
     "metadata": {},
     "output_type": "execute_result"
    }
   ],
   "source": [
    "builder.set_entry_point(\"planner\")\n",
    "builder.set_finish_point(\"reflection\")  "
   ]
  },
  {
   "cell_type": "code",
   "execution_count": 18,
   "id": "fd2d0990-a932-423f-9ff3-5cada58c5f32",
   "metadata": {
    "height": 115
   },
   "outputs": [
    {
     "data": {
      "text/plain": [
       "<langgraph.graph.state.StateGraph at 0x20bcbcbfcb0>"
      ]
     },
     "execution_count": 18,
     "metadata": {},
     "output_type": "execute_result"
    }
   ],
   "source": [
    "builder.add_edge(\"planner\", \"generate\")\n",
    "builder.add_edge(\"generate\", \"reflection\")"
   ]
  },
  {
   "cell_type": "code",
   "execution_count": 19,
   "id": "27cde654-64e2-48bc-80a9-0ed668ccb7dc",
   "metadata": {
    "height": 30
   },
   "outputs": [],
   "source": [
    "graph = builder.compile(checkpointer=memory)"
   ]
  },
  {
   "cell_type": "code",
   "execution_count": 20,
   "id": "4871f644-b131-4065-b7ce-b82c20a41f11",
   "metadata": {
    "height": 64
   },
   "outputs": [
    {
     "data": {
      "image/png": "[encoded data removed]",
      "text/plain": [
       "<IPython.core.display.Image object>"
      ]
     },
     "execution_count": 20,
     "metadata": {},
     "output_type": "execute_result"
    }
   ],
   "source": [
    "from IPython.display import Image\n",
    "\n",
    "Image(graph.get_graph().draw_png())"
   ]
  },
  {
   "cell_type": "code",
   "execution_count": null,
   "id": "06cd9120",
   "metadata": {},
   "outputs": [
    {
     "data": {
      "text/markdown": [
       "### Answer from the system: \n",
       "\n",
       "{'planner': {'plan': '1. **Identify formula**: Triangle area = (base × height) / 2.  \\n2. **Plug values**: (6 cm × 4 cm) / 2.  \\n3. **Calculate**: 24 cm² / 2 = **12 cm²**.  \\n\\n**Result**: Area = 12 cm².'}}"
      ],
      "text/plain": [
       "<IPython.core.display.Markdown object>"
      ]
     },
     "metadata": {},
     "output_type": "display_data"
    },
    {
     "data": {
      "text/markdown": [
       "### Answer from the system: \n",
       "\n",
       "{'generate': {'calculator': '**Step-by-Step Calculation:**\\n\\n1. **Formula**: Area of a triangle = (base × height) / 2  \\n2. **Substitute values**:  \\n   - Base = 6 cm  \\n   - Height = 4 cm  \\n   Calculation: \\\\( \\\\frac{6 \\\\, \\\\text{cm} \\\\times 4 \\\\, \\\\text{cm}}{2} \\\\)  \\n3. **Multiply base and height**:  \\n   \\\\( 6 \\\\times 4 = 24 \\\\) → \\\\( 24 \\\\, \\\\text{cm}^2 \\\\)  \\n4. **Divide by 2**:  \\n   \\\\( \\\\frac{24 \\\\, \\\\text{cm}^2}{2} = 12 \\\\, \\\\text{cm}^2 \\\\)  \\n\\n**Result**: The area of the triangle is **12 cm²**.  \\n\\nThis method ensures accuracy by strictly following the formula and verifying unit consistency (cm × cm = cm²). Let me know if further clarification is needed!'}}"
      ],
      "text/plain": [
       "<IPython.core.display.Markdown object>"
      ]
     },
     "metadata": {},
     "output_type": "display_data"
    },
    {
     "data": {
      "text/markdown": [
       "### Answer from the system: \n",
       "\n",
       "{'reflection': {'reviewer': '**Review:**  \\n- ✅ **Accuracy:** Correct formula, steps, and units (cm²).  \\n- ⚠️ **Optimization:** Combine operations: \\\\( \\\\frac{6}{2} \\\\times 4 = 12 \\\\, \\\\text{cm}^2 \\\\) (reduces steps).  \\n- 📝 **Best Practices:**  \\n  1. Explicitly state assumptions (e.g., height is perpendicular to base).  \\n  2. Simplify notation: \\\\( \\\\frac{6 \\\\times 4}{2} \\\\) → \\\\( 3 \\\\times 4 \\\\).  \\n- 📉 **Token Efficiency:** Remove redundant arrows (e.g., \"24 → 24 cm²\") by merging steps.  \\n\\n**Final Result:** Correct (12 cm²). Streamline for brevity without losing rigor.'}}"
      ],
      "text/plain": [
       "<IPython.core.display.Markdown object>"
      ]
     },
     "metadata": {},
     "output_type": "display_data"
    }
   ],
   "source": [
    "from IPython.display import display, Markdown\n",
    "\n",
    "# Simulación del stream y de las salidas\n",
    "thread = {\"configurable\": {\"thread_id\": \"1\"}}\n",
    "\n",
    "# Función para generar una salida más bonita\n",
    "def print_pretty_output():\n",
    "    for s in graph.stream({\n",
    "        'task': \"Calculate the area of a triangle with a base of 6 cm and a height of 4 cm.\",\n",
    "    }, thread):\n",
    "        # Use the markdown for the final presentation\n",
    "        display(Markdown(f\"### Answer from the system: \\n\\n{s}\"))\n",
    "\n",
    "# Calling the function\n",
    "print_pretty_output()"
   ]
  }
 ],
 "metadata": {
  "kernelspec": {
   "display_name": "LLM",
   "language": "python",
   "name": "python3"
  },
  "language_info": {
   "codemirror_mode": {
    "name": "ipython",
    "version": 3
   },
   "file_extension": ".py",
   "mimetype": "text/x-python",
   "name": "python",
   "nbconvert_exporter": "python",
   "pygments_lexer": "ipython3",
   "version": "3.12.9"
  }
 },
 "nbformat": 4,
 "nbformat_minor": 5
}
