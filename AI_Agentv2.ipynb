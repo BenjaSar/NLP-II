{
 "cells": [
  {
   "cell_type": "markdown",
   "id": "911b3b37-3b29-4833-94f2-bfe47af00c83",
   "metadata": {},
   "source": [
    "### Evaluate CV's"
   ]
  },
  {
   "cell_type": "code",
   "execution_count": 236,
   "id": "d0168aee-bce9-4d60-b827-f86a88187e31",
   "metadata": {
    "height": 149
   },
   "outputs": [],
   "source": [
    "import openai\n",
    "# Core\n",
    "import os\n",
    "import re\n",
    "import io\n",
    "import logging\n",
    "import pathlib\n",
    "import sqlite3\n",
    "from typing import TypedDict, List\n",
    "\n",
    "# I/O and environment\n",
    "from dotenv import load_dotenv, find_dotenv\n",
    "from PyPDF2 import PdfReader\n",
    "from IPython.display import display, Markdown, Image\n",
    "\n",
    "# LangChain\n",
    "from langchain.chains import RetrievalQA, LLMChain, StuffDocumentsChain\n",
    "from langchain.prompts import PromptTemplate\n",
    "from langchain.document_loaders import TextLoader\n",
    "from langchain.text_splitter import RecursiveCharacterTextSplitter\n",
    "from langchain.docstore.document import Document\n",
    "from langchain_core.messages import SystemMessage, HumanMessage\n",
    "from langchain_openai import ChatOpenAI, OpenAIEmbeddings\n",
    "\n",
    "# Pinecone\n",
    "from pinecone import Pinecone, ServerlessSpec\n",
    "from langchain_pinecone import PineconeVectorStore\n",
    "\n",
    "# LangGraph\n",
    "from langgraph.graph import START, StateGraph, END\n",
    "from langgraph.checkpoint.sqlite import SqliteSaver\n",
    "\n",
    "# memory = SqliteSaver.from_conn_string(\":memory:\")"
   ]
  },
  {
   "cell_type": "code",
   "execution_count": 237,
   "id": "8b5db15d",
   "metadata": {},
   "outputs": [],
   "source": [
    "# Load enviroment\n",
    "load_dotenv(find_dotenv())\n",
    "memory = SqliteSaver(sqlite3.connect(\":memory:\", check_same_thread=False))\n",
    "openai_api_key = os.getenv(\"OPENAI_API_KEY\")\n",
    "pinecone_api_key = os.getenv('PINECONE')\n",
    "\n",
    "# Set the api keys\n",
    "openai.api_key =openai_api_key\n",
    "client = openai.OpenAI()\n",
    "\n",
    "MODEL_NAME = \"gpt-4o-mini\"  # Change to \"gpt-3.5-turbo\" if needed"
   ]
  },
  {
   "cell_type": "code",
   "execution_count": 238,
   "id": "43814854",
   "metadata": {},
   "outputs": [],
   "source": [
    "# Initialize OpenAIEmbedding from Langchain\n",
    "embeddings = OpenAIEmbeddings(openai_api_key=openai_api_key)\n",
    "\n",
    "pc = Pinecone(api_key=pinecone_api_key)\n",
    "\n",
    "index = pc.Index(\"quickstart\")\n",
    "\n",
    "# Initialize Pinecone using Langchaing and sending the embedding\n",
    "pinecone_vectorstore = PineconeVectorStore(index=index, embedding=embeddings)"
   ]
  },
  {
   "cell_type": "code",
   "execution_count": 239,
   "id": "654af343",
   "metadata": {},
   "outputs": [
    {
     "name": "stdout",
     "output_type": "stream",
     "text": [
      "[Document(metadata={'producer': 'Skia/PDF m110 Google Docs Renderer', 'creator': 'PyPDF', 'creationdate': '', 'title': 'cvFS_VE', 'source': 'D:\\\\Documents\\\\IA\\\\NLPII\\\\_Ejercicios_\\\\docs\\\\cvFS.pdf', 'total_pages': 2, 'page': 0, 'page_label': '1'}, page_content='IoT/Embedded Systems EngineerFABIAN  SARMIENTO\\xa0\\xa0+541166673518flsarmiento.v@gmail.comhttps://www.linkedin.com/in/fabian-sarmiento-976b0764/\\nProfile\\nProfessional in Engineering with critical thinking and high analytic capacity. I enjoy learning and facing newchallenges. I ampassionateabout theInternetofThingsandEmbeddedSystems. Myworkisorientedtoobjectivesand I like to be part of everything my team is working on .\\nEmployment History\\n● IoT Project Leader  -  Internet of Fields - Freb. 2022 - TodayDesign, deployment and operation  of sensor networks for Smart AgricultureMonitoring of production process of  sensors for Smart AgricultureDeployment and monitoring of weather stations● Train Electrical Engineer (TEE)—EMEPA- Sept2014-Nov 2021Engineering calculations, equipment sizing and selection for low and medium voltage for rollingstock according to the robust standards to electrical systems.Designing and speciﬁcation of electrical circuits (power, load calculations) for rolling stock, elaboration ofschematics, functional and single-line diagrams using tools like Electrical Autocad.Contributor on deﬁnition of scope of supply between Train and SubsystemsSupport to the factory during the mounting, installation and participation in the setting up of the units.Support about the TCMS (CAN – Ethernet network), calculations, wiring topologySupplier tracking of subsystems (electric, doors, brakes, etc.) and development of new suppliers.Knowledge of standard IEC-61375 – Electrical Railway Equipment – TCMS – Trains Bus(TCN, WTB,MVB)● Client  Supervisor in Alstom (Barcelona) – EMEPA - 2018Supervision of manufacturing of the railway coaches Alstom Metropolis for the L1 ext of the Metro de Lima● Scholarship holder - National Scientific and Technical Research Council (CONICET) 2012-2014Evaluation of the electronic properties of Mn-doped GaN semiconductors● Scholarship holder – National Atomic Energy Commission(CNEA)2010-2012Master thesis: Evaluation of structural properties of Mn-doped GaN● Electrical Project Engineer– Técnica Elemec SAICIYA-2008 – 2010Cost estimation and elaboration of technical oﬀers for electrical installations according to the public/privatetenders.'), Document(metadata={'producer': 'Skia/PDF m110 Google Docs Renderer', 'creator': 'PyPDF', 'creationdate': '', 'title': 'cvFS_VE', 'source': 'D:\\\\Documents\\\\IA\\\\NLPII\\\\_Ejercicios_\\\\docs\\\\cvFS.pdf', 'total_pages': 2, 'page': 1, 'page_label': '2'}, page_content='Elaboration of computing materials for electrical installations (commercial, residential and industrial)Elaboration of schematics, functional and single-line diagrams using computational tools like Electrical Autocad2D.\\nEducation\\n● University of Buenos Aires – Embedded Systems - SpecializationDegree 2019-2020Internet of Things  -Master degree - 2020- 2022\\n● Jorge A. Sabato Institute - UNSAM—Master in Sciencesand Technology Materials, 2010-2012● Francisco de Paula Santander University– Bac. deg.inElectromechanical Eng,  2001-2007\\nLanguages Computational skills Certifications\\nSpanish: NativeEnglish:  Professionalproficiency\\nEmbedded C++  -  freeRTOS - Kicad - SQLServer - AngularJS - NodeJS - GitHub\\neCARS03x: Electric Cars: BusinessCredential ID:0946a7a31c0d40aa99dda6a78ef18464\\nM.Sc. Fabian Sarmiento')]\n",
      "['IoT/Embedded Systems EngineerFABIAN  SARMIENTO\\xa0\\xa0+541166673518flsarmiento.v@gmail.comhttps://www.linkedin.com/in/fabian-sarmiento-976b0764/\\nProfile\\nProfessional in Engineering with critical thinking and high analytic capacity. I enjoy learning and facing newchallenges. I ampassionateabout theInternetofThingsandEmbeddedSystems. Myworkisorientedtoobjectivesand I like to be part of everything my team is working on .\\nEmployment History\\n● IoT Project Leader  -  Internet of Fields - Freb. 2022 - TodayDesign, deployment and operation  of sensor networks for Smart AgricultureMonitoring of production process of  sensors for Smart AgricultureDeployment and monitoring of weather stations● Train Electrical Engineer (TEE)—EMEPA- Sept2014-Nov 2021Engineering calculations, equipment sizing and selection for low and medium voltage for rollingstock according to the robust standards to electrical systems.Designing and speciﬁcation of electrical circuits (power, load calculations) for rolling stock, elaboration ofschematics, functional and single-line diagrams using tools like Electrical Autocad.Contributor on deﬁnition of scope of supply between Train and SubsystemsSupport to the factory during the mounting, installation and participation in the setting up of the units.Support about the TCMS (CAN – Ethernet network), calculations, wiring topologySupplier tracking of subsystems (electric, doors, brakes, etc.) and development of new suppliers.Knowledge of standard IEC-61375 – Electrical Railway Equipment – TCMS – Trains Bus(TCN, WTB,MVB)● Client  Supervisor in Alstom (Barcelona) – EMEPA - 2018Supervision of manufacturing of the railway coaches Alstom Metropolis for the L1 ext of the Metro de Lima● Scholarship holder - National Scientific and Technical Research Council (CONICET) 2012-2014Evaluation of the electronic properties of Mn-doped GaN semiconductors● Scholarship holder – National Atomic Energy Commission(CNEA)2010-2012Master thesis: Evaluation of structural properties of Mn-doped GaN● Electrical Project Engineer– Técnica Elemec SAICIYA-2008 – 2010Cost estimation and elaboration of technical oﬀers for electrical installations according to the public/privatetenders.', 'Elaboration of computing materials for electrical installations (commercial, residential and industrial)Elaboration of schematics, functional and single-line diagrams using computational tools like Electrical Autocad2D.\\nEducation\\n● University of Buenos Aires – Embedded Systems - SpecializationDegree 2019-2020Internet of Things  -Master degree - 2020- 2022\\n● Jorge A. Sabato Institute - UNSAM—Master in Sciencesand Technology Materials, 2010-2012● Francisco de Paula Santander University– Bac. deg.inElectromechanical Eng,  2001-2007\\nLanguages Computational skills Certifications\\nSpanish: NativeEnglish:  Professionalproficiency\\nEmbedded C++  -  freeRTOS - Kicad - SQLServer - AngularJS - NodeJS - GitHub\\neCARS03x: Electric Cars: BusinessCredential ID:0946a7a31c0d40aa99dda6a78ef18464\\nM.Sc. Fabian Sarmiento']\n"
     ]
    }
   ],
   "source": [
    "## Load the files\n",
    "from langchain.document_loaders import PyPDFLoader\n",
    "\n",
    "def load_pdf_texts_from_folder(folder_path: str):\n",
    "    all_docs = []\n",
    "    for filename in os.listdir(folder_path):\n",
    "        if filename.lower().endswith(\".pdf\"):\n",
    "            pdf_path = os.path.join(folder_path, filename)\n",
    "            loader = PyPDFLoader(pdf_path)\n",
    "            pages = loader.load()\n",
    "            all_docs.extend(pages)\n",
    "            \n",
    "    return all_docs\n",
    "\n",
    "\n",
    "folder_path = pathlib.Path().resolve()\n",
    "docs_in_folder = load_pdf_texts_from_folder(folder_path)\n",
    "print(docs_in_folder)\n",
    "texts = [doc.page_content for doc in docs_in_folder]\n",
    "print(texts)\n"
   ]
  },
  {
   "cell_type": "code",
   "execution_count": 240,
   "id": "991e6700",
   "metadata": {},
   "outputs": [],
   "source": [
    "\n",
    "doc_splitter = RecursiveCharacterTextSplitter(chunk_size=500, chunk_overlap=100, separators=[\"\\n\\n\", \"\\n\", \".\", \" \"])\n",
    "documents_for_evaluation = doc_splitter.split_documents(docs_in_folder)\n",
    "\n",
    "#metadata = [{\"filename\": \"cvFS.pdf\"} for _ in range(len(docs_in_folder))]\n",
    "#docs = doc_splitter.create_documents([texts], metadatas=metadata)\n",
    "\n",
    "#print(documents_for_evaluation)\n",
    "\n",
    "indices = [f\"{'CV'}_{i+1}\" for i in range(len(documents_for_evaluation))]"
   ]
  },
  {
   "cell_type": "code",
   "execution_count": 241,
   "id": "5c1a863a",
   "metadata": {},
   "outputs": [
    {
     "data": {
      "text/plain": [
       "['CV_1', 'CV_2', 'CV_3', 'CV_4', 'CV_5', 'CV_6', 'CV_7', 'CV_8', 'CV_9']"
      ]
     },
     "execution_count": 241,
     "metadata": {},
     "output_type": "execute_result"
    }
   ],
   "source": [
    "# Upload the vector embedding to pinecone\n",
    "pinecone_vectorstore.add_documents(documents=documents_for_evaluation, ids=indices)"
   ]
  },
  {
   "cell_type": "code",
   "execution_count": 242,
   "id": "de50beee",
   "metadata": {},
   "outputs": [],
   "source": [
    "# The TypeDdict is imported from the typing module for defining a type of dictionary with specific values keys and typed values.\n",
    "from typing_extensions import Annotated\n",
    "class AgentState(TypedDict):\n",
    "    task:str\n",
    "    question: str\n",
    "    plan:str\n",
    "    context: Annotated[List[Document], \"accumulate\"]\n",
    "    answer: str\n",
    "    content: Annotated[List[str], \"accumulate\"]"
   ]
  },
  {
   "cell_type": "code",
   "execution_count": 243,
   "id": "a2ba84ec-c172-4de7-ac55-e3158a531b23",
   "metadata": {
    "height": 64
   },
   "outputs": [],
   "source": [
    "ChatOpenAI.api_key = os.getenv(\"OPENAI_API_KEY\")\n",
    "model = ChatOpenAI(\n",
    "    model=MODEL_NAME,\n",
    "    temperature=0,\n",
    "    max_tokens=None,\n",
    "    timeout=None,\n",
    "    max_retries=2,\n",
    ")\n"
   ]
  },
  {
   "cell_type": "code",
   "execution_count": 244,
   "id": "876d5092-b8ef-4e38-b4d7-0e80c609bf7a",
   "metadata": {
    "height": 81
   },
   "outputs": [],
   "source": [
    "PLAN_PROMPT = \"\"\"You are an expert writer tasked with drafting a high-level outline for evaluating CVs, curricula vitae, or resumes.\n",
    "Write this outline for each of the CVs provided by the user. Provide a summary of the main characteristics of the given document.\n",
    "You can read the CV from the output of the load_pdf_texts_from_folder function.\n",
    "Maximum 100 words.\"\"\""
   ]
  },
  {
   "cell_type": "code",
   "execution_count": 245,
   "id": "10084a02-2928-4945-9f7c-ad3f5b33caf7",
   "metadata": {
    "height": 166
   },
   "outputs": [],
   "source": [
    "LLM_PROMPT_USER1 = \"\"\"\n",
    "You are an assistant that converts user goals into specific search queries to extract useful information from resumes. \n",
    "Only proceed if the candidate's name Fabian is explicitly mentioned in the {context}.\n",
    "\n",
    "Generate 2 to 5 **short, specific** search queries related to evaluating candidates' skills, experience, and strengths.\n",
    "\n",
    "Respond in this format:\n",
    "{\n",
    "  \"queries\": [\"What are the candidate's main skills?\", \"What work experience is listed?\", ...]\n",
    "}\n",
    "\n",
    "Call the generate function or agent or {context} to answer the questions.\n",
    "\n",
    "Contexto: {context}\n",
    "\n",
    "\n",
    "\"\"\""
   ]
  },
  {
   "cell_type": "code",
   "execution_count": 246,
   "id": "714d1205-f8fc-4912-b148-2a45da99219c",
   "metadata": {
    "height": 81
   },
   "outputs": [],
   "source": [
    "LLM_PROMPT_USER2 = \"\"\"\n",
    "You are an intelligent assistant tasked with transforming a user's goal into targeted search queries to help evaluate resume content. Your objective is to generate concise and specific queries that retrieve relevant details about a candidate's skills, experience, and strengths.\n",
    "\n",
    "Proceed only if the candidate's name \"Milena\" is explicitly mentioned in the {context}. If \"Milena\" is not mentioned, respond with the following JSON exactly as shown:\n",
    "\n",
    "{\n",
    "  \"error\": \"I cannot provide the evaluation because Milena is not the candidate mentioned in the document.\"\n",
    "}\n",
    "\n",
    "If \"Milena\" is present, generate 2 to 5 short, focused queries that could help evaluate her qualifications.\n",
    "\n",
    "Respond only in the following JSON format:\n",
    "{\n",
    "  \"queries\": [\n",
    "    \"What are Milena's key technical skills?\",\n",
    "    \"What job roles has Milena previously held?\",\n",
    "    \"Does Milena have experience in data analysis?\",\n",
    "    \"What certifications does Milena have?\",\n",
    "    \"What industries has Milena worked in?\"\n",
    "  ]\n",
    "}\n",
    "\"\"\"\n"
   ]
  },
  {
   "cell_type": "code",
   "execution_count": 247,
   "id": "dc3293b7-a50c-43c8-a022-8975e1e444b8",
   "metadata": {
    "height": 98
   },
   "outputs": [],
   "source": [
    "from pydantic import BaseModel\n",
    "from typing import List\n",
    "\n",
    "class Queries(BaseModel):\n",
    "    queries: List[str]"
   ]
  },
  {
   "cell_type": "code",
   "execution_count": 248,
   "id": "6b2f82fe-3ec4-4917-be51-9fb10d1317fa",
   "metadata": {
    "height": 132
   },
   "outputs": [],
   "source": [
    "def plan_node(state: AgentState):\n",
    "    messages = [\n",
    "        SystemMessage(content=PLAN_PROMPT), \n",
    "        HumanMessage(content=state['task'])\n",
    "    ]\n",
    "    response = model.invoke(messages)\n",
    "    return {\"plan\": response.content}"
   ]
  },
  {
   "cell_type": "code",
   "execution_count": 249,
   "id": "3f5af389",
   "metadata": {},
   "outputs": [
    {
     "data": {
      "text/plain": [
       "'\\n    )\\n\\n    # Step 4: LLM chain with prompt\\n    llm_chain = LLMChain(llm=llm, prompt=prompt)\\n\\n    # Step 5: Document combination strategy\\n    stuff_chain = StuffDocumentsChain(\\n        llm_chain=llm_chain,\\n        document_variable_name=\"context\"\\n    )\\n\\n    # Step 6: Pinecone retriever setup\\n    retriever = pinecone_vectorstore.as_retriever(\\n        search_type=\\'similarity\\',\\n        search_kwargs={\\'k\\': top_k},\\n        input_key=\"query\"\\n    )\\n\\n    # Step 7: Final RAG-style QA chain\\n    qa_chain = RetrievalQA(\\n        retriever=retriever,\\n        combine_documents_chain=stuff_chain,\\n        return_source_documents=False\\n    )\\n\\n    return qa_chain'"
      ]
     },
     "execution_count": 249,
     "metadata": {},
     "output_type": "execute_result"
    }
   ],
   "source": [
    "\"\"\"from typing import Optional\n",
    "\n",
    "def retriever(state: Optional[AgentState] = None):\n",
    "\n",
    "    # Step 1: Use model and config from state or defaults\n",
    "    model_name = state.get(\"model\", MODEL_NAME) if state else \"gpt-4\"\n",
    "    temperature = state.get(\"temperature\", 0.7) if state else 0.7\n",
    "    top_k = state.get(\"top_k\", 3) if state else 3\n",
    "\n",
    "    # Step 2: Initialize the LLM\n",
    "    llm = ChatOpenAI(model=model_name, temperature=temperature)\n",
    "\n",
    "    # Step 3: Define a structured system prompt\n",
    "    prompt = PromptTemplate(\n",
    "        input_variables=[\"context\"],\n",
    "        template=\"\"\"\n",
    "#Eres un bot que responde preguntas sobre documentos proporcionados.\n",
    "#Usa únicamente el contexto dado para responder.\n",
    "#Si la respuesta no está en el contexto, di:\n",
    "#'No te puedo proporcionar la información, ya que no existe en mi base de datos.'\n",
    "#Sé preciso y conciso.\n",
    "\n",
    "#Contexto: {context}\n",
    "\"\"\"\n",
    "    )\n",
    "\n",
    "    # Step 4: LLM chain with prompt\n",
    "    llm_chain = LLMChain(llm=llm, prompt=prompt)\n",
    "\n",
    "    # Step 5: Document combination strategy\n",
    "    stuff_chain = StuffDocumentsChain(\n",
    "        llm_chain=llm_chain,\n",
    "        document_variable_name=\"context\"\n",
    "    )\n",
    "\n",
    "    # Step 6: Pinecone retriever setup\n",
    "    retriever = pinecone_vectorstore.as_retriever(\n",
    "        search_type='similarity',\n",
    "        search_kwargs={'k': top_k},\n",
    "        input_key=\"query\"\n",
    "    )\n",
    "\n",
    "    # Step 7: Final RAG-style QA chain\n",
    "    qa_chain = RetrievalQA(\n",
    "        retriever=retriever,\n",
    "        combine_documents_chain=stuff_chain,\n",
    "        return_source_documents=False\n",
    "    )\n",
    "\n",
    "    return qa_chain\"\"\"\n"
   ]
  },
  {
   "cell_type": "code",
   "execution_count": 250,
   "id": "42eb126a",
   "metadata": {},
   "outputs": [],
   "source": [
    "def retriever(state: AgentState):\n",
    "    indices = [f\"{'CV'}_{i+1}\" for i in range(len(documents_for_evaluation))]\n",
    "    pinecone_vectorstore.add_documents(documents=documents_for_evaluation, ids=indices)\n",
    "    print(pinecone_vectorstore)\n",
    "    \n",
    "    query = state.get(\"question\") or state.get(\"task\") or \"Describe the main characteristics of the resumes.\"\n",
    "\n",
    "    retriever = pinecone_vectorstore.as_retriever(\n",
    "        search_type='similarity',\n",
    "        search_kwargs={'k': 3}\n",
    "    )\n",
    "    relevant_docs = retriever.get_relevant_documents(query)\n",
    "    print(relevant_docs)\n",
    "\n",
    "    return {\"context\": relevant_docs, \"query\":query}\n",
    "    #return qa_chain\n"
   ]
  },
  {
   "cell_type": "code",
   "execution_count": 251,
   "id": "a03747fb",
   "metadata": {},
   "outputs": [],
   "source": [
    "def generate(state: AgentState):\n",
    "    context_docs = state.get(\"context\", [])\n",
    "    content_chunks = state.get(\"content\", [])\n",
    "\n",
    "    print(\"Context docs:\", context_docs)\n",
    "    print(\"Content chunks:\", content_chunks)\n",
    "\n",
    "    # Combine available content\n",
    "    if context_docs:\n",
    "        docs_content = \"\\n\\n\".join(texts.page_content for texts in context_docs if hasattr(texts, \"page_content\"))\n",
    "    elif content_chunks:\n",
    "        docs_content = \"\\n\\n\".join([str(chunk) for chunk in content_chunks])\n",
    "    else:\n",
    "        return {\"answer\": \"No context or content available for answer generation.\"}\n",
    "\n",
    "    # Get a safe fallback question string\n",
    "    question = state.get('question') or state.get('task') or \"Describe the main characteristics of the resumes.\"\n",
    "\n",
    "    prompt_text = f\"\"\"Eres un asistente experto. Usa el siguiente contexto para responder a las preguntas.\n",
    "\n",
    "Pregunta: {question}\n",
    "\n",
    "Contexto:\n",
    "{docs_content}\n",
    "\n",
    "Respuesta:\"\"\"\n",
    "\n",
    "    try:\n",
    "        response = model.invoke([HumanMessage(content=prompt_text)])\n",
    "        return {\"answer\": response.content}\n",
    "    except Exception as e:\n",
    "        print(\"Error during model invocation:\", e)\n",
    "        return {\"answer\": f\"Error invoking model: {str(e)}\"}"
   ]
  },
  {
   "cell_type": "code",
   "execution_count": 252,
   "id": "4e9628f8",
   "metadata": {},
   "outputs": [],
   "source": [
    "def llm_user1_node(state: AgentState):\n",
    "    structured_llm = model.with_structured_output(Queries)\n",
    "    messages = [\n",
    "        SystemMessage(content=LLM_PROMPT_USER1),\n",
    "        HumanMessage(content=state.get('task', ''))\n",
    "    ]\n",
    "\n",
    "    try:\n",
    "        queries = structured_llm.invoke(messages)\n",
    "        print(\"Queries:\", queries)\n",
    "    except Exception as e:\n",
    "        return {\"content\": [], \"error\": f\"Failed to generate queries: {e}\"}\n",
    "\n",
    "    if not queries or not getattr(queries, \"queries\", None):\n",
    "        return {\"content\": [], \"error\": \"No queries generated\"}\n",
    "\n",
    "    llm = ChatOpenAI(model=MODEL_NAME, temperature=0)\n",
    "    qa_chain = RetrievalQA.from_chain_type(\n",
    "        llm=llm,\n",
    "        chain_type=\"stuff\",\n",
    "        retriever=pinecone_vectorstore.as_retriever(search_type=\"similarity\", search_kwargs={\"k\": 3}),\n",
    "        return_source_documents=True \n",
    "    )\n",
    "\n",
    "    content = []\n",
    "    for q in queries.queries:\n",
    "        if not isinstance(q, str):\n",
    "            continue\n",
    "        result = qa_chain.invoke({\"query\": q})\n",
    "        print(f\"Answer: {result['result']}\")\n",
    "        content.append(result[\"result\"])\n",
    "       \n",
    "    return {\"content\": content}\n"
   ]
  },
  {
   "cell_type": "code",
   "execution_count": 253,
   "id": "c46bf5e2",
   "metadata": {},
   "outputs": [
    {
     "data": {
      "text/plain": [
       "'def llm_user2_node(state: AgentState):\\n    queries = model.with_structured_output(Queries).invoke([\\n        SystemMessage(content=LLM_PROMPT_USER2),\\n        HumanMessage(content=state[\\'task\\'])\\n    ])\\n    content = state.get(\\'content\\', [])\\n    for q in queries.queries:\\n        qa_answer = retriever(q)\\n        response = qa_answer.run(q)  # This now works\\n        for r in response[\\'results\\']:\\n            content.append(r[\\'content\\'])\\n    return {\"content\": content}'"
      ]
     },
     "execution_count": 253,
     "metadata": {},
     "output_type": "execute_result"
    }
   ],
   "source": [
    "\"\"\"def llm_user2_node(state: AgentState):\n",
    "    queries = model.with_structured_output(Queries).invoke([\n",
    "        SystemMessage(content=LLM_PROMPT_USER2),\n",
    "        HumanMessage(content=state['task'])\n",
    "    ])\n",
    "    content = state.get('content', [])\n",
    "    for q in queries.queries:\n",
    "        qa_answer = retriever(q)\n",
    "        response = qa_answer.run(q)  # This now works\n",
    "        for r in response['results']:\n",
    "            content.append(r['content'])\n",
    "    return {\"content\": content}\"\"\""
   ]
  },
  {
   "cell_type": "code",
   "execution_count": 254,
   "id": "4a2fa138",
   "metadata": {},
   "outputs": [],
   "source": [
    "def llm_user2_node(state: AgentState):\n",
    "    structured_llm = model.with_structured_output(Queries)\n",
    "    messages = [\n",
    "        SystemMessage(content=LLM_PROMPT_USER2),\n",
    "        HumanMessage(content=state.get('task', ''))\n",
    "    ]\n",
    "\n",
    "    try:\n",
    "        queries = structured_llm.invoke(messages)\n",
    "        print(\"✅ Queries:\", queries)\n",
    "    except Exception as e:\n",
    "        return {\"content\": [], \"error\": f\"Failed to generate queries: {e}\"}\n",
    "\n",
    "    if not queries or not getattr(queries, \"queries\", None):\n",
    "        return {\"content\": [], \"error\": \"No queries generated\"}\n",
    "\n",
    "    # Setup QA chain\n",
    "    llm = ChatOpenAI(model=MODEL_NAME, temperature=0)\n",
    "    qa_chain = RetrievalQA.from_chain_type(\n",
    "        llm=llm,\n",
    "        chain_type=\"stuff\",\n",
    "        retriever=pinecone_vectorstore.as_retriever(search_type=\"similarity\", search_kwargs={\"k\": 3}),\n",
    "        return_source_documents=False\n",
    "    )\n",
    "\n",
    "    content = []\n",
    "    for q in queries.queries:\n",
    "        if not isinstance(q, str):\n",
    "            continue\n",
    "        result = qa_chain.invoke({\"query\": q})\n",
    "        print(f\"Answer: {result['result']}\")\n",
    "        content.append(result[\"result\"])\n",
    "\n",
    "    return {\"content\": content}\n"
   ]
  },
  {
   "cell_type": "code",
   "execution_count": 255,
   "id": "ff362f49-dcf1-4ea1-a86c-e516e9ab897d",
   "metadata": {
    "height": 98
   },
   "outputs": [],
   "source": [
    "def should_continue(state):\n",
    "    return END"
   ]
  },
  {
   "cell_type": "code",
   "execution_count": 256,
   "id": "a7e15a20-83d7-434c-8551-bce8dcc32be0",
   "metadata": {
    "height": 30
   },
   "outputs": [],
   "source": [
    "builder = StateGraph(AgentState)"
   ]
  },
  {
   "cell_type": "code",
   "execution_count": 257,
   "id": "f898d71b",
   "metadata": {},
   "outputs": [
    {
     "data": {
      "text/plain": [
       "<langgraph.graph.state.StateGraph at 0x1dc5cfbaae0>"
      ]
     },
     "execution_count": 257,
     "metadata": {},
     "output_type": "execute_result"
    }
   ],
   "source": [
    "builder.add_node(\"planner\", plan_node)\n",
    "builder.add_node(\"Evaluator1\", llm_user1_node)\n",
    "builder.add_node(\"Evaluator2\", llm_user2_node)\n",
    "builder.add_node(\"generate\", generate)\n",
    "builder.add_node(\"retriever\", retriever)\n",
    "\n",
    "builder.set_entry_point(\"planner\")\n",
    "builder.set_finish_point(\"Evaluator2\")  \n",
    "#builder.set_finish_point(\"Evaluator2\")  \n",
    "\n",
    "builder.add_edge(\"planner\", \"retriever\")\n",
    "builder.add_edge(\"retriever\", \"generate\")\n",
    "builder.add_edge(\"generate\", \"Evaluator1\")\n",
    "builder.add_edge(\"Evaluator1\", \"Evaluator2\")"
   ]
  },
  {
   "cell_type": "code",
   "execution_count": 258,
   "id": "a833d3ce-bd31-4319-811d-decff226b970",
   "metadata": {
    "height": 30
   },
   "outputs": [
    {
     "data": {
      "text/plain": [
       "<langgraph.graph.state.StateGraph at 0x1dc5cfbaae0>"
      ]
     },
     "execution_count": 258,
     "metadata": {},
     "output_type": "execute_result"
    }
   ],
   "source": [
    "builder.set_entry_point(\"planner\")"
   ]
  },
  {
   "cell_type": "code",
   "execution_count": 259,
   "id": "76e93cce-6eab-4c7c-ac64-e9993fdb30d6",
   "metadata": {
    "height": 115
   },
   "outputs": [
    {
     "data": {
      "text/plain": [
       "<langgraph.graph.state.StateGraph at 0x1dc5cfbaae0>"
      ]
     },
     "execution_count": 259,
     "metadata": {},
     "output_type": "execute_result"
    }
   ],
   "source": [
    "builder.add_conditional_edges(\n",
    "    \"generate\", \n",
    "    should_continue, \n",
    "    {END: END}\n",
    ")\n"
   ]
  },
  {
   "cell_type": "code",
   "execution_count": 260,
   "id": "27cde654-64e2-48bc-80a9-0ed668ccb7dc",
   "metadata": {
    "height": 30
   },
   "outputs": [],
   "source": [
    "graph = builder.compile(checkpointer=memory)"
   ]
  },
  {
   "cell_type": "code",
   "execution_count": 261,
   "id": "4871f644-b131-4065-b7ce-b82c20a41f11",
   "metadata": {
    "height": 64
   },
   "outputs": [
    {
     "data": {
      "image/png": "[encoded data removed]",
      "text/plain": [
       "<IPython.core.display.Image object>"
      ]
     },
     "execution_count": 261,
     "metadata": {},
     "output_type": "execute_result"
    }
   ],
   "source": [
    "from IPython.display import Image\n",
    "\n",
    "Image(graph.get_graph().draw_png())\n"
   ]
  },
  {
   "cell_type": "code",
   "execution_count": 262,
   "id": "06cd9120",
   "metadata": {},
   "outputs": [
    {
     "data": {
      "text/markdown": [
       "### Respuesta del sistema: \n",
       "\n",
       "{'planner': {'plan': 'Para poder evaluar los CVs proporcionados, necesitaría que me compartas el contenido de los mismos. Una vez que tenga acceso a los textos de los CVs, podré elaborar un esquema de evaluación y resaltar sus características y fortalezas. Por favor, proporciona los documentos o el texto correspondiente.'}}"
      ],
      "text/plain": [
       "<IPython.core.display.Markdown object>"
      ]
     },
     "metadata": {},
     "output_type": "display_data"
    },
    {
     "name": "stdout",
     "output_type": "stream",
     "text": [
      "<langchain_pinecone.vectorstores.PineconeVectorStore object at 0x000001DC56F6C800>\n",
      "[Document(id='CV_32', metadata={'filename': 'cvFS.pdf'}, page_content='tenders.'), Document(id='CV_7', metadata={'creationdate': '', 'creator': 'PyPDF', 'page': 0.0, 'page_label': '1', 'producer': 'Skia/PDF m110 Google Docs Renderer', 'source': 'D:\\\\Documents\\\\IA\\\\NLPII\\\\_Ejercicios_\\\\docs\\\\cvFS.pdf', 'title': 'cvFS_VE', 'total_pages': 2.0}, page_content='.'), Document(id='CV_25', metadata={'filename': 'cvFS.pdf'}, page_content='●\\nScholarship holder - National Scientific and Technical Research Council (CONICET) 2012-2014')]\n"
     ]
    },
    {
     "data": {
      "text/markdown": [
       "### Respuesta del sistema: \n",
       "\n",
       "{'retriever': {'context': [Document(id='CV_32', metadata={'filename': 'cvFS.pdf'}, page_content='tenders.'), Document(id='CV_7', metadata={'creationdate': '', 'creator': 'PyPDF', 'page': 0.0, 'page_label': '1', 'producer': 'Skia/PDF m110 Google Docs Renderer', 'source': 'D:\\\\Documents\\\\IA\\\\NLPII\\\\_Ejercicios_\\\\docs\\\\cvFS.pdf', 'title': 'cvFS_VE', 'total_pages': 2.0}, page_content='.'), Document(id='CV_25', metadata={'filename': 'cvFS.pdf'}, page_content='●\\nScholarship holder - National Scientific and Technical Research Council (CONICET) 2012-2014')]}}"
      ],
      "text/plain": [
       "<IPython.core.display.Markdown object>"
      ]
     },
     "metadata": {},
     "output_type": "display_data"
    },
    {
     "name": "stdout",
     "output_type": "stream",
     "text": [
      "Context docs: [Document(id='CV_32', metadata={'filename': 'cvFS.pdf'}, page_content='tenders.'), Document(id='CV_7', metadata={'creationdate': '', 'creator': 'PyPDF', 'page': 0.0, 'page_label': '1', 'producer': 'Skia/PDF m110 Google Docs Renderer', 'source': 'D:\\\\Documents\\\\IA\\\\NLPII\\\\_Ejercicios_\\\\docs\\\\cvFS.pdf', 'title': 'cvFS_VE', 'total_pages': 2.0}, page_content='.'), Document(id='CV_25', metadata={'filename': 'cvFS.pdf'}, page_content='●\\nScholarship holder - National Scientific and Technical Research Council (CONICET) 2012-2014')]\n",
      "Content chunks: []\n"
     ]
    },
    {
     "data": {
      "text/markdown": [
       "### Respuesta del sistema: \n",
       "\n",
       "{'generate': {'answer': 'Para evaluar los CVs proporcionados, es importante considerar las experiencias, habilidades y logros de cada candidato. A continuación, se presentan las principales características y fortalezas de un evaluado en particular, basado en el contexto proporcionado:\\n\\n**Evaluado: Beca CONICET (2012-2014)**\\n\\n**Fortalezas:**\\n\\n1. **Formación Académica Sólida**: La obtención de una beca del Consejo Nacional de Investigaciones Científicas y Técnicas (CONICET) indica un alto nivel de competencia académica y un compromiso con la investigación científica.\\n\\n2. **Experiencia en Investigación**: La beca sugiere que el evaluado ha estado involucrado en proyectos de investigación, lo que implica habilidades en la formulación de hipótesis, diseño experimental y análisis de datos.\\n\\n3. **Capacidad de Trabajo Independiente**: La naturaleza de las becas de investigación a menudo requiere que los candidatos trabajen de manera autónoma, lo que demuestra habilidades de autogestión y responsabilidad.\\n\\n4. **Contribución al Conocimiento Científico**: Al ser parte de un programa de investigación, es probable que el evaluado haya contribuido a publicaciones científicas, lo que resalta su capacidad para comunicar resultados y colaborar con otros investigadores.\\n\\n5. **Desarrollo de Habilidades Técnicas**: La experiencia en un entorno de investigación puede haber proporcionado al evaluado habilidades técnicas específicas relacionadas con su campo de estudio, así como el uso de herramientas y tecnologías relevantes.\\n\\n6. **Red de Contactos Profesionales**: Ser parte de una institución reconocida como CONICET puede haber permitido al evaluado establecer conexiones valiosas en el ámbito académico y científico.\\n\\nEn resumen, el evaluado presenta un perfil fuerte en investigación, con una sólida formación académica y habilidades que son altamente valoradas en el ámbito científico.'}}"
      ],
      "text/plain": [
       "<IPython.core.display.Markdown object>"
      ]
     },
     "metadata": {},
     "output_type": "display_data"
    },
    {
     "name": "stdout",
     "output_type": "stream",
     "text": [
      "Queries: queries=[\"What are Fabian's main skills?\", 'What relevant work experience does Fabian have?', 'What strengths does Fabian demonstrate in his resume?', 'What certifications or qualifications does Fabian possess?', \"How does Fabian's experience align with the job requirements?\"]\n",
      "Answer: Fabian's main skills include critical thinking, high analytic capacity, and a passion for the Internet of Things and Embedded Systems. He is also skilled in Embedded C++, freeRTOS, Kicad, SQL Server, AngularJS, NodeJS, and GitHub. Additionally, he has professional proficiency in English and is a native Spanish speaker.\n",
      "Answer: Fabian Sarmiento has relevant work experience from his time at the Jorge A. Sabato Institute, where he pursued a Master in Sciences and Technology Materials from 2010 to 2012. Additionally, he holds a Bachelor's degree in Electromechanical Engineering from Francisco de Paula Santander University, which he completed between 2001 and 2007. However, specific details about his work experience beyond his education are not provided.\n",
      "Answer: Fabian demonstrates several strengths in his resume, including:\n",
      "\n",
      "1. **Educational Background**: He has a solid educational foundation with a Bachelor's degree in Electromechanical Engineering and a Master's degree in Sciences and Technology Materials.\n",
      "\n",
      "2. **Professional Skills**: He possesses a range of technical skills, including proficiency in Embedded C++, freeRTOS, Kicad, SQL Server, AngularJS, NodeJS, and GitHub, which are relevant to IoT and embedded systems.\n",
      "\n",
      "3. **Language Proficiency**: He is a native Spanish speaker and has professional proficiency in English, which can be beneficial in diverse work environments.\n",
      "\n",
      "4. **Analytical and Critical Thinking**: He highlights his critical thinking and high analytical capacity, which are essential for problem-solving in engineering.\n",
      "\n",
      "5. **Passion for Technology**: His passion for the Internet of Things and Embedded Systems indicates a strong interest in his field, which can drive motivation and innovation.\n",
      "\n",
      "6. **Team Orientation**: He expresses a desire to be part of team efforts, suggesting good collaboration skills.\n",
      "\n",
      "7. **Continuous Learning**: His enjoyment of learning and facing new challenges indicates a commitment to personal and professional growth. \n",
      "\n",
      "Overall, these strengths suggest that Fabian is a well-rounded candidate with both technical expertise and soft skills.\n",
      "Answer: Fabian Sarmiento possesses the following qualifications and certifications:\n",
      "\n",
      "1. Master in Sciences and Technology Materials from Jorge A. Sabato Institute - UNSAM (2010-2012).\n",
      "2. Bachelor's degree in Electromechanical Engineering from Francisco de Paula Santander University (2001-2007).\n",
      "3. Certification in Electric Cars (eCARS03x) with Credential ID: 0946a7a31c0d40aa99dda6a78ef18464.\n",
      "Answer: I don't know.\n"
     ]
    },
    {
     "data": {
      "text/markdown": [
       "### Respuesta del sistema: \n",
       "\n",
       "{'Evaluator1': {'content': [\"Fabian's main skills include critical thinking, high analytic capacity, and a passion for the Internet of Things and Embedded Systems. He is also skilled in Embedded C++, freeRTOS, Kicad, SQL Server, AngularJS, NodeJS, and GitHub. Additionally, he has professional proficiency in English and is a native Spanish speaker.\", \"Fabian Sarmiento has relevant work experience from his time at the Jorge A. Sabato Institute, where he pursued a Master in Sciences and Technology Materials from 2010 to 2012. Additionally, he holds a Bachelor's degree in Electromechanical Engineering from Francisco de Paula Santander University, which he completed between 2001 and 2007. However, specific details about his work experience beyond his education are not provided.\", \"Fabian demonstrates several strengths in his resume, including:\\n\\n1. **Educational Background**: He has a solid educational foundation with a Bachelor's degree in Electromechanical Engineering and a Master's degree in Sciences and Technology Materials.\\n\\n2. **Professional Skills**: He possesses a range of technical skills, including proficiency in Embedded C++, freeRTOS, Kicad, SQL Server, AngularJS, NodeJS, and GitHub, which are relevant to IoT and embedded systems.\\n\\n3. **Language Proficiency**: He is a native Spanish speaker and has professional proficiency in English, which can be beneficial in diverse work environments.\\n\\n4. **Analytical and Critical Thinking**: He highlights his critical thinking and high analytical capacity, which are essential for problem-solving in engineering.\\n\\n5. **Passion for Technology**: His passion for the Internet of Things and Embedded Systems indicates a strong interest in his field, which can drive motivation and innovation.\\n\\n6. **Team Orientation**: He expresses a desire to be part of team efforts, suggesting good collaboration skills.\\n\\n7. **Continuous Learning**: His enjoyment of learning and facing new challenges indicates a commitment to personal and professional growth. \\n\\nOverall, these strengths suggest that Fabian is a well-rounded candidate with both technical expertise and soft skills.\", \"Fabian Sarmiento possesses the following qualifications and certifications:\\n\\n1. Master in Sciences and Technology Materials from Jorge A. Sabato Institute - UNSAM (2010-2012).\\n2. Bachelor's degree in Electromechanical Engineering from Francisco de Paula Santander University (2001-2007).\\n3. Certification in Electric Cars (eCARS03x) with Credential ID: 0946a7a31c0d40aa99dda6a78ef18464.\", \"I don't know.\"]}}"
      ],
      "text/plain": [
       "<IPython.core.display.Markdown object>"
      ]
     },
     "metadata": {},
     "output_type": "display_data"
    },
    {
     "name": "stdout",
     "output_type": "stream",
     "text": [
      "✅ Queries: queries=[\"What are Milena's key technical skills?\", 'What job roles has Milena previously held?', 'Does Milena have experience in data analysis?', 'What certifications does Milena have?', 'What industries has Milena worked in?']\n",
      "Answer: I don't know.\n",
      "Answer: I don't know.\n",
      "Answer: I don't know.\n",
      "Answer: I don't know.\n",
      "Answer: Milena has worked in the railway industry, specifically with Alstom in the manufacturing of railway coaches for the Metro de Lima. She has also been involved in research related to semiconductors, indicating experience in the electronics or materials science industry.\n"
     ]
    },
    {
     "data": {
      "text/markdown": [
       "### Respuesta del sistema: \n",
       "\n",
       "{'Evaluator2': {'content': [\"I don't know.\", \"I don't know.\", \"I don't know.\", \"I don't know.\", 'Milena has worked in the railway industry, specifically with Alstom in the manufacturing of railway coaches for the Metro de Lima. She has also been involved in research related to semiconductors, indicating experience in the electronics or materials science industry.']}}"
      ],
      "text/plain": [
       "<IPython.core.display.Markdown object>"
      ]
     },
     "metadata": {},
     "output_type": "display_data"
    }
   ],
   "source": [
    "# Simulación del stream y de las salidas\n",
    "thread = {\"configurable\": {\"thread_id\": \"1\"}}\n",
    "\n",
    "# Función para generar una salida más bonita\n",
    "def print_pretty_output():\n",
    "    initial_state = {\n",
    "    \"task\": \"Evalua cada uno de los cvs proporcionados. Indica las principales características del evaluado destacando sus fortalezas.\",\n",
    "    \"content\": []\n",
    "}\n",
    "\n",
    "    for s in graph.stream(initial_state, thread):\n",
    "        display(Markdown(f\"### Respuesta del sistema: \\n\\n{s}\"))\n",
    "\n",
    "# Llamar la función\n",
    "print_pretty_output()\n"
   ]
  }
 ],
 "metadata": {
  "kernelspec": {
   "display_name": "LLM",
   "language": "python",
   "name": "python3"
  },
  "language_info": {
   "codemirror_mode": {
    "name": "ipython",
    "version": 3
   },
   "file_extension": ".py",
   "mimetype": "text/x-python",
   "name": "python",
   "nbconvert_exporter": "python",
   "pygments_lexer": "ipython3",
   "version": "3.12.9"
  }
 },
 "nbformat": 4,
 "nbformat_minor": 5
}
